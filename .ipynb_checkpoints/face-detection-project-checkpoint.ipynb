{
 "cells": [
  {
   "cell_type": "code",
   "execution_count": 1,
   "metadata": {},
   "outputs": [],
   "source": [
    "#project face recognition"
   ]
  },
  {
   "cell_type": "code",
   "execution_count": 3,
   "metadata": {},
   "outputs": [],
   "source": [
    "# 1.read and show video stream,capture images\n",
    "# 2.Detect faces and show bounding box\n",
    "# 3.Flatten the largest face image(gray scale) and save it in a numpy array\n",
    "# 4.Repeat the above to multiple people to generate training data"
   ]
  },
  {
   "cell_type": "code",
   "execution_count": 1,
   "metadata": {},
   "outputs": [
    {
     "name": "stdout",
     "output_type": "stream",
     "text": [
      "hey\n"
     ]
    }
   ],
   "source": [
    "#face detection\n",
    "print(\"hey\")\n",
    "import cv2"
   ]
  },
  {
   "cell_type": "code",
   "execution_count": null,
   "metadata": {
    "scrolled": false
   },
   "outputs": [],
   "source": [
    "import cv2\n",
    "import numpy as np\n",
    "\n",
    "cap=cv2.VideoCapture(0)\n",
    "\n",
    "face_cascade=cv2.CascadeClassifier(\"haarcascade_frontalface_alt.xml\")\n",
    "skip=0\n",
    "file_name=input(\"Enter the name of the person:\")\n",
    "face_data=[]\n",
    "dataset_path='data/'          #make a folder data in the same directory\n",
    "while True:\n",
    "    ret,frame =cap.read()\n",
    "    if ret==False:\n",
    "        continue\n",
    "    gray_frame=cv2.cvtColor(frame,cv2.COLOR_BGR2GRAY)\n",
    "    \n",
    "    cv2.imshow('Frame',frame)\n",
    "    \n",
    "    faces = face_cascade.detectMultiScale(frame,1.3,5)     #1.3 scalling factor and 5 neighbor rectangles\n",
    "    faces=sorted(faces,key= lambda f:f[2]*f[3])       #x-0,y-1,w-2,h-3\n",
    "    \n",
    "    for face in faces[-1:]:        #last face comes first acc to area\n",
    "        x,y,w,h=face\n",
    "        cv2.rectangle(frame,(x,y),(x+w,y+h),(0,255,255),2)    #Syntax: cv2.rectangle(image, start_point, end_point, color, thickness)\n",
    "        #crop the required face:region of interest\n",
    "        offset=10     #paddinf of 10px\n",
    "        face_section=frame[y-offset:y+h+offset,x-offset:x+w+offset]\n",
    "        face_section=cv2.resize(face_section,(100,100))\n",
    "        skip+=1\n",
    "        if skip%10==0:\n",
    "            face_data.append(face_section)\n",
    "            print(len(face_data))\n",
    "        \n",
    " \n",
    "    cv2.imshow(\"Frame\",frame)   \n",
    "    cv2.imshow(\"Face section\",face_section) \n",
    "#     Store every 10th face\n",
    "#     if(skip%10==0):\n",
    "#         pass\n",
    "#         store 10th face later on\n",
    "   \n",
    "    key_pressed=cv2.waitKey(1)& 0xFF  #oxFF convert 32 bit into 8 bit \n",
    "    if key_pressed==ord('q'):     #ord check the ascii \n",
    "        break;\n",
    "#convert our face list into numpy array\n",
    "face_data=np.asarray(face_data)\n",
    "face_data=face_data.reshape((face_data.shape[0],-1))\n",
    "print(face_data.shape)\n",
    "\n",
    "#save this file into file system\n",
    "np.save(dataset_path+file_name+'.npy',face_data)\n",
    "print(\"Data successfully saved at \"+dataset_path+file_name+'.npy')\n",
    "cap.release()\n",
    "cv2.destroyAllWindows()"
   ]
  },
  {
   "cell_type": "code",
   "execution_count": 3,
   "metadata": {},
   "outputs": [],
   "source": []
  },
  {
   "cell_type": "code",
   "execution_count": null,
   "metadata": {},
   "outputs": [],
   "source": []
  }
 ],
 "metadata": {
  "kernelspec": {
   "display_name": "Python 3",
   "language": "python",
   "name": "python3"
  },
  "language_info": {
   "codemirror_mode": {
    "name": "ipython",
    "version": 3
   },
   "file_extension": ".py",
   "mimetype": "text/x-python",
   "name": "python",
   "nbconvert_exporter": "python",
   "pygments_lexer": "ipython3",
   "version": "3.7.3"
  }
 },
 "nbformat": 4,
 "nbformat_minor": 2
}
